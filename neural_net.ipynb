{
 "cells": [
  {
   "cell_type": "code",
   "execution_count": 58,
   "metadata": {},
   "outputs": [
    {
     "name": "stdout",
     "output_type": "stream",
     "text": [
      "Exception reporting mode: Plain\n"
     ]
    }
   ],
   "source": [
    "%matplotlib inline\n",
    "%xmode plain\n",
    "import matplotlib.pyplot as plt\n",
    "import numpy as np\n",
    "import glob\n",
    "import cv2\n",
    "import torch.nn as nn\n",
    "import torch.nn.functional as f\n",
    "import torch\n",
    "import torch.optim as optim\n",
    "import time"
   ]
  },
  {
   "cell_type": "code",
   "execution_count": 59,
   "metadata": {},
   "outputs": [],
   "source": [
    "# all_cards = [cv2.imread(file) for file in glob.glob(\"../CV-BlackjackStudent/GOPR0317.MP4-lbl//*.png\")]\n",
    "def load_suit_data():\n",
    "    x_train = np.ones((1,60*100))\n",
    "    y_train = [] \n",
    "    suits = ['14w', '15w', '16w', '17w']\n",
    "    for filename in glob.glob(\"./training_data//*.png\"):\n",
    "\n",
    "        ## read spades\n",
    "        for j, substr in enumerate(suits):\n",
    "            if substr in  filename:\n",
    "                img = cv2.imread(filename)\n",
    "                img = cv2.resize(img, (60, 100))\n",
    "                img = cv2.cvtColor(img, cv2.COLOR_BGR2GRAY)\n",
    "                _,img = cv2.threshold(img, 128, 255, 0)\n",
    "                img = img.flatten()[np.newaxis, :]\n",
    "                x_train = np.vstack((x_train, img))\n",
    "                y_train.append(j)\n",
    "                \n",
    "    y_train = np.array([y_train])\n",
    "    x_train = x_train[1:x_train.shape[1], :]\n",
    "    \n",
    "    return x_train, y_train"
   ]
  },
  {
   "cell_type": "code",
   "execution_count": 60,
   "metadata": {},
   "outputs": [],
   "source": [
    "def load_rank_data():\n",
    "    x_train = np.ones((1,60*100))\n",
    "    y_train = [] \n",
    "    ranks = ['01', '02', '03', '04', '05', '06', '07', '08', '09', '10', '11', '12','13']\n",
    "    for filename in glob.glob(\"./training_data/ranks/*.png\"):\n",
    "\n",
    "        ## read spades\n",
    "        for j, substr in enumerate(ranks):\n",
    "            if substr in  filename:\n",
    "                img = cv2.imread(filename)\n",
    "                img = cv2.resize(img, (60, 100))\n",
    "                img = cv2.cvtColor(img, cv2.COLOR_BGR2GRAY)\n",
    "                _,img = cv2.threshold(img, 128, 255, 0)\n",
    "                img = img.flatten()[np.newaxis, :]\n",
    "                x_train = np.vstack((x_train, img))\n",
    "                y_train.append(j)\n",
    "\n",
    "        ## read hearts \n",
    "\n",
    "    y_train = np.array([y_train])\n",
    "    x_train = x_train[1:x_train.shape[1], :]\n",
    "    \n",
    "    return x_train, y_train"
   ]
  },
  {
   "cell_type": "code",
   "execution_count": 70,
   "metadata": {},
   "outputs": [
    {
     "data": {
      "text/plain": [
       "(90, 6000)"
      ]
     },
     "metadata": {},
     "output_type": "display_data"
    },
    {
     "data": {
      "text/plain": [
       "(1, 90)"
      ]
     },
     "metadata": {},
     "output_type": "display_data"
    }
   ],
   "source": [
    "x_train, y_train = load_rank_data()\n",
    "display(x_train.shape, y_train.shape)"
   ]
  },
  {
   "cell_type": "code",
   "execution_count": 71,
   "metadata": {},
   "outputs": [],
   "source": [
    "y_train = y_train.T\n",
    "joint_data = np.hstack((x_train, y_train))"
   ]
  },
  {
   "cell_type": "code",
   "execution_count": 72,
   "metadata": {},
   "outputs": [],
   "source": [
    "np.random.shuffle(joint_data)\n",
    "x_train = joint_data[:, 0:joint_data.shape[1]-1]\n",
    "y_train = joint_data[:, -1]"
   ]
  },
  {
   "cell_type": "code",
   "execution_count": 74,
   "metadata": {},
   "outputs": [],
   "source": [
    "class Net(nn.Module):\n",
    "    def __init__(self, num_inputs=6000, num_classes=13):\n",
    "        super(Net, self).__init__()\n",
    "        self.fc1 = nn.Linear(num_inputs, 50)\n",
    "        self.fc2 = nn.Linear(50, 50)\n",
    "        self.fc3 = nn.Linear(50, num_classes)\n",
    "\n",
    "    def forward(self, x):\n",
    "        x = f.relu(self.fc1(x))\n",
    "        x = f.relu(self.fc2(x))\n",
    "        x = self.fc3(x)\n",
    "        return x\n",
    "    \n"
   ]
  },
  {
   "cell_type": "code",
   "execution_count": 75,
   "metadata": {},
   "outputs": [
    {
     "data": {
      "text/plain": [
       "tensor([ 10,   0,   7,  11,  11,   4,  11,   7,   6,   7,   5,   6,\n",
       "          5,   9,   6,   9,  12,   4,   3,   4,  12,   0,   0,   6,\n",
       "          6,   0,   6,  12,   4,  10,   6,  11,   0,   7,   4,   6,\n",
       "          2,   9,   5,   1,   3,   4,  12,   8,   3,   9,   2,   5,\n",
       "          1,   4,   8,  10,   7,   9,  10,   3,  11,  12,   2,  10,\n",
       "         10,   9,   5,   3,   1,   7,   8,   1,   3,  11,   8,   0,\n",
       "          8,   8,   2,   1,   3,   9,  10,   2,  10,   9,   5,  12,\n",
       "          1,   7,   2,  11,  12,   3])"
      ]
     },
     "execution_count": 75,
     "metadata": {},
     "output_type": "execute_result"
    }
   ],
   "source": [
    "t_xtrain = torch.tensor(x_train).type(torch.float32)\n",
    "t_ytrain = torch.tensor(y_train).type(torch.LongTensor)\n",
    "t_ytrain"
   ]
  },
  {
   "cell_type": "code",
   "execution_count": 76,
   "metadata": {},
   "outputs": [
    {
     "name": "stdout",
     "output_type": "stream",
     "text": [
      "loss: 34.7493 acc: 0.0891 \n",
      "loss: 0.0017 acc: 0.8911 \n",
      "loss: 0.0008 acc: 0.8911 \n",
      "loss: 0.0005 acc: 0.8911 \n",
      "loss: 0.0004 acc: 0.8911 \n",
      "loss: 0.0003 acc: 0.8911 \n",
      "loss: 0.0003 acc: 0.8911 \n",
      "loss: 0.0002 acc: 0.8911 \n",
      "loss: 0.0002 acc: 0.8911 \n",
      "loss: 0.0002 acc: 0.8911 \n",
      "loss: 0.0001 acc: 0.8911 \n",
      "loss: 0.0001 acc: 0.8911 \n",
      "loss: 0.0001 acc: 0.8911 \n",
      "loss: 0.0001 acc: 0.8911 \n",
      "loss: 0.0001 acc: 0.8911 \n"
     ]
    }
   ],
   "source": [
    "net = Net()\n",
    "optimizer = optim.SGD(net.parameters(), lr=0.0001)\n",
    "loss_fn = torch.nn.CrossEntropyLoss()\n",
    "\n",
    "for i in range(100000):\n",
    "    optimizer.zero_grad()\n",
    "    outputs = net(t_xtrain).type(torch.float32) #.max(1)[0].type(torch.float32).unsqueeze(1)\n",
    "    loss = loss_fn(outputs, t_ytrain)\n",
    "        \n",
    "    if i % 500 == 0:\n",
    "        outputs = net(t_xtrain)\n",
    "        acc = torch.sum(net(t_xtrain).max(1)[1].reshape(1,x_train.shape[0]) == t_ytrain)\n",
    "        acc = acc.item()\n",
    "        print('loss: {:.4f} acc: {:.4f} '.format(loss.data, acc/101))\n",
    "        \n",
    "        \n",
    "    if loss < 0.0001:\n",
    "        break\n",
    "    loss.backward()\n",
    "    optimizer.step()\n",
    "    "
   ]
  },
  {
   "cell_type": "code",
   "execution_count": 67,
   "metadata": {},
   "outputs": [],
   "source": [
    "torch.save(net.state_dict(), './suits-model-'+str(time.time())+'.csv')"
   ]
  },
  {
   "cell_type": "code",
   "execution_count": 77,
   "metadata": {},
   "outputs": [],
   "source": [
    "for i in range(15):\n",
    "    cv2.imshow(str(y_train[i]),x_train[i].reshape(100,60))\n",
    "cv2.waitKey(0)\n",
    "cv2.destroyAllWindows()\n"
   ]
  },
  {
   "cell_type": "code",
   "execution_count": null,
   "metadata": {},
   "outputs": [],
   "source": []
  }
 ],
 "metadata": {
  "kernelspec": {
   "display_name": "Python 3",
   "language": "python",
   "name": "python3"
  },
  "language_info": {
   "codemirror_mode": {
    "name": "ipython",
    "version": 3
   },
   "file_extension": ".py",
   "mimetype": "text/x-python",
   "name": "python",
   "nbconvert_exporter": "python",
   "pygments_lexer": "ipython3",
   "version": "3.6.4"
  }
 },
 "nbformat": 4,
 "nbformat_minor": 2
}
