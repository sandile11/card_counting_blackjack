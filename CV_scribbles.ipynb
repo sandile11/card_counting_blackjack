{
 "cells": [
  {
   "cell_type": "code",
   "execution_count": 55,
   "metadata": {},
   "outputs": [
    {
     "name": "stdout",
     "output_type": "stream",
     "text": [
      "Exception reporting mode: Plain\n"
     ]
    }
   ],
   "source": [
    "%xmode plain\n",
    "import glob"
   ]
  },
  {
   "cell_type": "code",
   "execution_count": null,
   "metadata": {},
   "outputs": [],
   "source": [
    "suits_dict = {0:'Diamond',1:'Spade', 2:'Heart'}"
   ]
  },
  {
   "cell_type": "code",
   "execution_count": 56,
   "metadata": {},
   "outputs": [],
   "source": [
    "import numpy as np\n",
    "import cv2\n",
    "\n",
    "# mask = cv2.imread('../GOPR0317.MP4-lbl/01962-lbl.png',1)\n",
    "# img = cv2.imread('../GOPR0317.MP4-lbl/01962.png',1)\n",
    "mask = cv2.imread('00157-lbl.png',1)\n",
    "img = cv2.imread('00157.png',1)\n",
    "mask = cv2.cvtColor(mask, cv2.COLOR_BGR2GRAY)\n",
    "ret,thresh = cv2.threshold(mask,127,255,0)\n",
    "im2 ,contours, hierarchy = cv2.findContours(thresh,cv2.RETR_TREE,cv2.CHAIN_APPROX_SIMPLE)\n",
    "cimg = cv2.drawContours(img,contours,-1,(0,255,0),1)\n",
    "\n",
    "# cv2.imshow('teg', cimg)\n",
    "# cv2.waitKey(0)\n",
    "# cv2.destroyAllWindows()"
   ]
  },
  {
   "cell_type": "code",
   "execution_count": 57,
   "metadata": {},
   "outputs": [],
   "source": [
    "def flattener(image, pts, w, h):\n",
    "    \"\"\"Flattens an image of a card into a top-down 200x300 perspective.\n",
    "    Returns the flattened, re-sized, grayed image.\n",
    "    See www.pyimagesearch.com/2014/08/25/4-point-opencv-getperspective-transform-example/\"\"\"\n",
    "    temp_rect = np.zeros((4,2), dtype = \"float32\")\n",
    "    \n",
    "    s = np.sum(pts, axis = 2)\n",
    "\n",
    "    tl = pts[np.argmin(s)]\n",
    "    br = pts[np.argmax(s)]\n",
    "\n",
    "    diff = np.diff(pts, axis = -1)\n",
    "    tr = pts[np.argmin(diff)]\n",
    "    bl = pts[np.argmax(diff)]\n",
    "\n",
    "    # Need to create an array listing points in order of\n",
    "    # [top left, top right, bottom right, bottom left]\n",
    "    # before doing the perspective transform\n",
    "\n",
    "    if w <= 0.8*h: # If card is vertically oriented\n",
    "        temp_rect[0] = tl\n",
    "        temp_rect[1] = tr\n",
    "        temp_rect[2] = br\n",
    "        temp_rect[3] = bl\n",
    "\n",
    "    if w >= 1.2*h: # If card is horizontally oriented\n",
    "        temp_rect[0] = bl\n",
    "        temp_rect[1] = tl\n",
    "        temp_rect[2] = tr\n",
    "        temp_rect[3] = br\n",
    "\n",
    "    # If the card is 'diamond' oriented, a different algorithm\n",
    "    # has to be used to identify which point is top left, top right\n",
    "    # bottom left, and bottom right.\n",
    "    \n",
    "    if w > 0.8*h and w < 1.2*h: #If card is diamond oriented\n",
    "        # If furthest left point is higher than furthest right point,\n",
    "        # card is tilted to the left.\n",
    "        if pts[1][0][1] <= pts[3][0][1]:\n",
    "            # If card is titled to the left, approxPolyDP returns points\n",
    "            # in this order: top right, top left, bottom left, bottom right\n",
    "            temp_rect[0] = pts[1][0] # Top left\n",
    "            temp_rect[1] = pts[0][0] # Top right\n",
    "            temp_rect[2] = pts[3][0] # Bottom right\n",
    "            temp_rect[3] = pts[2][0] # Bottom left\n",
    "\n",
    "        # If furthest left point is lower than furthest right point,\n",
    "        # card is tilted to the right\n",
    "        if pts[1][0][1] > pts[3][0][1]:\n",
    "            # If card is titled to the right, approxPolyDP returns points\n",
    "            # in this order: top left, bottom left, bottom right, top right\n",
    "            temp_rect[0] = pts[0][0] # Top left\n",
    "            temp_rect[1] = pts[3][0] # Top right\n",
    "            temp_rect[2] = pts[2][0] # Bottom right\n",
    "            temp_rect[3] = pts[1][0] # Bottom left\n",
    "            \n",
    "        \n",
    "    maxWidth = 200\n",
    "    maxHeight = 300\n",
    "\n",
    "    # Create destination array, calculate perspective transform matrix,\n",
    "    # and warp card image\n",
    "    dst = np.array([[0,0],[maxWidth-1,0],[maxWidth-1,maxHeight-1],[0, maxHeight-1]], np.float32)\n",
    "    M = cv2.getPerspectiveTransform(temp_rect,dst)\n",
    "    warp = cv2.warpPerspective(image, M, (maxWidth, maxHeight))\n",
    "    warp = cv2.cvtColor(warp,cv2.COLOR_BGR2GRAY)\n",
    "\n",
    "    return warp"
   ]
  },
  {
   "cell_type": "code",
   "execution_count": 58,
   "metadata": {},
   "outputs": [],
   "source": [
    "peri = cv2.arcLength(contours[0], True)\n",
    "approx = cv2.approxPolyDP(contours[0], 0.09*peri, True)\n",
    "pts = np.float32(approx)\n",
    "x,y,w,h = cv2.boundingRect(contours[0])\n",
    "average = np.sum(pts, axis=0)/len(pts)\n",
    "warp = flattener(img, pts, w, h)"
   ]
  },
  {
   "cell_type": "code",
   "execution_count": 59,
   "metadata": {},
   "outputs": [],
   "source": [
    "ret,thresh = cv2.threshold(warp,127,255,cv2.THRESH_BINARY)\n",
    "im2 ,contours, hierarchy = cv2.findContours(thresh,cv2.RETR_TREE,cv2.CHAIN_APPROX_SIMPLE)"
   ]
  },
  {
   "cell_type": "code",
   "execution_count": 60,
   "metadata": {},
   "outputs": [
    {
     "data": {
      "text/plain": [
       "array([59264.5,  1248. ,  1253. ,  1320.5,  1322.5,  1314. ,  1388.5,\n",
       "        1375. ,  1390.5])"
      ]
     },
     "metadata": {},
     "output_type": "display_data"
    }
   ],
   "source": [
    "area = np.array([cv2.contourArea(contours[i]) for i in range(len(contours))]) \n",
    "suit_contours = (area>1000).nonzero()[0]\n",
    "suit_areas = area[suit_contours]\n",
    "display(area[suit_contours])\n",
    "z = [x for _,x in sorted(zip(area[suit_contours],suit_contours))]\n",
    "largest_suit_contour = z[-2]"
   ]
  },
  {
   "cell_type": "code",
   "execution_count": 61,
   "metadata": {},
   "outputs": [],
   "source": [
    "x,y,w,h = cv2.boundingRect(contours[largest_suit_contour])\n",
    "ret,th1 = cv2.threshold(warp,127,255,cv2.THRESH_BINARY)\n",
    "warp_c = cv2.rectangle(th1,(x,y),(x+w,y+h),(0,255,0),2)\n",
    "warp_c.shape\n",
    "cropped_suit = th1[y:y+h, x:x+w]\n",
    "# cv2.imwrite(\"club_suit_t.png\", cropped_suit)\n",
    "# display(cropped_suit.shape)\n",
    "# resized_image = cv2.resize(image, (100, 50)) \n",
    "# cv2.imshow('teg', cropped_suit)\n",
    "# cv2.waitKey(0)\n",
    "# cv2.destroyAllWindows()"
   ]
  },
  {
   "cell_type": "code",
   "execution_count": 64,
   "metadata": {},
   "outputs": [],
   "source": [
    "def find_rank(img_suit):\n",
    "    suits = [cv2.imread(file) for file in glob.glob(\"../../card_counting_blackjack/suits/*.png\")]\n",
    "    for i,img in enumerate(suits):\n",
    "        img = cv2.cvtColor(cv2.resize(img, (img_suit.shape[1], img_suit.shape[0])), cv2.COLOR_BGR2GRAY)\n",
    "        suits[i] = img\n",
    "    \n",
    "    minimum = 0\n",
    "    idx  = 0   \n",
    "    \n",
    "    for i in range(len(suits)):\n",
    "        ans = (img_suit - cv2.flip(suits[i], 0))\n",
    "        ans = ans[ans < 128].shape[0]\n",
    "        \n",
    "        if ans > minimum:\n",
    "            minimum = ans\n",
    "            idx = i\n",
    "        \n",
    "    return idx\n"
   ]
  },
  {
   "cell_type": "code",
   "execution_count": 66,
   "metadata": {},
   "outputs": [
    {
     "name": "stdout",
     "output_type": "stream",
     "text": [
      "The card belongs to suit 3\n"
     ]
    }
   ],
   "source": [
    "ans = find_rank(cropped_suit)\n",
    "print(\"The card belongs to suit {}\".format(ans))"
   ]
  },
  {
   "cell_type": "code",
   "execution_count": null,
   "metadata": {},
   "outputs": [],
   "source": []
  },
  {
   "cell_type": "code",
   "execution_count": null,
   "metadata": {},
   "outputs": [],
   "source": []
  }
 ],
 "metadata": {
  "kernelspec": {
   "display_name": "Python 3",
   "language": "python",
   "name": "python3"
  },
  "language_info": {
   "codemirror_mode": {
    "name": "ipython",
    "version": 3
   },
   "file_extension": ".py",
   "mimetype": "text/x-python",
   "name": "python",
   "nbconvert_exporter": "python",
   "pygments_lexer": "ipython3",
   "version": "3.6.4"
  }
 },
 "nbformat": 4,
 "nbformat_minor": 2
}
