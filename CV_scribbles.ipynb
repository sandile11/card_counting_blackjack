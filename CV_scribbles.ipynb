{
 "cells": [
  {
   "cell_type": "code",
   "execution_count": 1,
   "metadata": {},
   "outputs": [
    {
     "name": "stdout",
     "output_type": "stream",
     "text": [
      "Exception reporting mode: Plain\n"
     ]
    }
   ],
   "source": [
    "%xmode plain\n",
    "import glob\n",
    "import cv2\n",
    "import numpy as np"
   ]
  },
  {
   "cell_type": "code",
   "execution_count": null,
   "metadata": {},
   "outputs": [],
   "source": [
    "python --version"
   ]
  },
  {
   "cell_type": "code",
   "execution_count": 3,
   "metadata": {},
   "outputs": [],
   "source": [
    "suits_dict = {0:'Diamond',1:'Spade', 2:'Heart', 3:'Club'}"
   ]
  },
  {
   "cell_type": "code",
   "execution_count": 4,
   "metadata": {},
   "outputs": [],
   "source": [
    "# mask = cv2.imread('../CV-BlackjackStudent/GOPR0319.MP4-lbl/06115-lbl.png',1)\n",
    "# img = cv2.imread('../CV-BlackjackStudent/GOPR0319.MP4-lbl/06115.png',1)\n",
    "# mask = cv2.imread('../CV-BlackjackStudent/GOPR0319.MP4-lbl/06115-lbl.png',1)\n",
    "# img = cv2.imread('../CV-BlackjackStudent/GOPR0319.MP4-lbl/06115.png',1)\n",
    "mask = cv2.imread('../CV-BlackjackStudent/GOPR0319.MP4-lbl/06891-lbl.png',1)\n",
    "img = cv2.imread('../CV-BlackjackStudent/GOPR0319.MP4-lbl/06891.png',1)\n",
    "mask = cv2.cvtColor(mask, cv2.COLOR_BGR2GRAY)\n",
    "ret,thresh = cv2.threshold(mask,127,255,0)\n",
    "_,img = cv2.threshold(img,127,255,0)\n",
    "im2 ,num_cards, hierarchy = cv2.findContours(thresh,cv2.RETR_TREE,cv2.CHAIN_APPROX_SIMPLE)\n",
    "cimg = cv2.drawContours(img,num_cards,-1,(0,255,0),1)\n",
    "# cv2.imshow('teg', cimg)\n",
    "# cv2.waitKey(0)\n",
    "# cv2.destroyAllWindows()"
   ]
  },
  {
   "cell_type": "code",
   "execution_count": 5,
   "metadata": {},
   "outputs": [],
   "source": [
    "def preprocess_card(contour, img):\n",
    "    \n",
    "    peri = cv2.arcLength(contour, True)\n",
    "    approx = cv2.approxPolyDP(contour, 0.09*peri, True)\n",
    "    pts = np.float32(approx)\n",
    "    x,y,w,h = cv2.boundingRect(contour)\n",
    "    average = np.sum(pts, axis=0)/len(pts)\n",
    "    img = cv2.blur(img, (3,3))\n",
    "    warp = flattener(img, pts, w, h)\n",
    "    # blur blur blur\n",
    "#     cv2.imshow('ee',warp)\n",
    "#     cv2.waitKey(0)\n",
    "#     cv2.destroyAllWindows()\n",
    "    \n",
    "    warp = cv2.blur(warp, (5,5))\n",
    "    ret,thresh = cv2.threshold(warp,127,255,cv2.THRESH_BINARY)\n",
    "    im2 ,contours, hierarchy = cv2.findContours(thresh,cv2.RETR_TREE,cv2.CHAIN_APPROX_SIMPLE)\n",
    "    area = np.array([cv2.contourArea(contours[i], True) for i in range(len(contours))]) \n",
    "    \n",
    "    print(np.percentile(area[1:],50))\n",
    "    suit_contours = (area>np.percentile(area[1:],50)).nonzero()[0]\n",
    "    suit_areas = area[suit_contours]\n",
    "    z = [x for _,x in sorted(zip(area[suit_contours],suit_contours))]\n",
    "    largest_suit_contour = z[-3]\n",
    "    x,y,w,h = cv2.boundingRect(contours[largest_suit_contour])\n",
    "    ret,th1 = cv2.threshold(warp,127,255,cv2.THRESH_BINARY)\n",
    "    warp_c = cv2.rectangle(th1,(x,y),(x+w,y+h),(0,255,0),2)\n",
    "    warp_c.shape\n",
    "    cropped_suit = warp_c[y:y+h, x:x+w]\n",
    "    \n",
    "    return cropped_suit, len(suit_contours)-1"
   ]
  },
  {
   "cell_type": "code",
   "execution_count": 6,
   "metadata": {},
   "outputs": [],
   "source": [
    "def flattener(image, pts, w, h):\n",
    "    \"\"\"Flattens an image of a card into a top-down 200x300 perspective.\n",
    "    Returns the flattened, re-sized, grayed image.\n",
    "    See www.pyimagesearch.com/2014/08/25/4-point-opencv-getperspective-transform-example/\"\"\"\n",
    "    temp_rect = np.zeros((4,2), dtype = \"float32\")\n",
    "    \n",
    "    s = np.sum(pts, axis = 2)\n",
    "\n",
    "    tl = pts[np.argmin(s)]\n",
    "    br = pts[np.argmax(s)]\n",
    "\n",
    "    diff = np.diff(pts, axis = -1)\n",
    "    tr = pts[np.argmin(diff)]\n",
    "    bl = pts[np.argmax(diff)]\n",
    "\n",
    "    # Need to create an array listing points in order of\n",
    "    # [top left, top right, bottom right, bottom left]\n",
    "    # before doing the perspective transform\n",
    "\n",
    "    if w <= 0.8*h: # If card is vertically oriented\n",
    "        temp_rect[0] = tl\n",
    "        temp_rect[1] = tr\n",
    "        temp_rect[2] = br\n",
    "        temp_rect[3] = bl\n",
    "\n",
    "    if w >= 1.2*h: # If card is horizontally oriented\n",
    "        temp_rect[0] = bl\n",
    "        temp_rect[1] = tl\n",
    "        temp_rect[2] = tr\n",
    "        temp_rect[3] = br\n",
    "\n",
    "    # If the card is 'diamond' oriented, a different algorithm\n",
    "    # has to be used to identify which point is top left, top right\n",
    "    # bottom left, and bottom right.\n",
    "    \n",
    "    if w > 0.8*h and w < 1.2*h: #If card is diamond oriented\n",
    "        # If furthest left point is higher than furthest right point,\n",
    "        # card is tilted to the left.\n",
    "        if pts[1][0][1] <= pts[3][0][1]:\n",
    "            # If card is titled to the left, approxPolyDP returns points\n",
    "            # in this order: top right, top left, bottom left, bottom right\n",
    "            temp_rect[0] = pts[1][0] # Top left\n",
    "            temp_rect[1] = pts[0][0] # Top right\n",
    "            temp_rect[2] = pts[3][0] # Bottom right\n",
    "            temp_rect[3] = pts[2][0] # Bottom left\n",
    "\n",
    "        # If furthest left point is lower than furthest right point,\n",
    "        # card is tilted to the right\n",
    "        if pts[1][0][1] > pts[3][0][1]:\n",
    "            # If card is titled to the right, approxPolyDP returns points\n",
    "            # in this order: top left, bottom left, bottom right, top right\n",
    "            temp_rect[0] = pts[0][0] # Top left\n",
    "            temp_rect[1] = pts[3][0] # Top right\n",
    "            temp_rect[2] = pts[2][0] # Bottom right\n",
    "            temp_rect[3] = pts[1][0] # Bottom left\n",
    "            \n",
    "        \n",
    "    maxWidth = 200\n",
    "    maxHeight = 300\n",
    "\n",
    "    # Create destination array, calculate perspective transform matrix,\n",
    "    # and warp card image\n",
    "    dst = np.array([[0,0],[maxWidth-1,0],[maxWidth-1,maxHeight-1],[0, maxHeight-1]], np.float32)\n",
    "    M = cv2.getPerspectiveTransform(temp_rect,dst)\n",
    "    warp = cv2.warpPerspective(image, M, (maxWidth, maxHeight))\n",
    "    warp = cv2.cvtColor(warp,cv2.COLOR_BGR2GRAY)\n",
    "\n",
    "    return warp"
   ]
  },
  {
   "cell_type": "code",
   "execution_count": null,
   "metadata": {},
   "outputs": [],
   "source": [
    "def find_rank(img_suit):\n",
    "    suits = [cv2.imread(file) for file in glob.glob(\"suits/*.png\")]\n",
    "    for i,img in enumerate(suits):\n",
    "        img = cv2.cvtColor(cv2.resize(img, (img_suit.shape[1], img_suit.shape[0])), cv2.COLOR_BGR2GRAY)\n",
    "        suits[i] = cv2.blur(img,(5,5))\n",
    "    \n",
    "    minimum1 = 0\n",
    "    idx1  = 0   \n",
    "    ret = 0\n",
    "    for i in range(len(suits)):\n",
    "        ans = np.abs((img_suit + cv2.flip(suits[i], 0)))\n",
    "        tans = ans[ans < 128].shape[0]\n",
    "        print(i,\" \", tans)\n",
    "        \n",
    "        if tans > minimum1:\n",
    "            minimum1 = tans\n",
    "            idx1 = i\n",
    "            ret = ans\n",
    "    minimum2 = 0\n",
    "    idx2 = 0\n",
    "\n",
    "\n",
    "    for j in range(len(suits)):\n",
    "        ans = np.abs(img_suit + suits[j])\n",
    "        ans = ans[ans < 128].shape[0]\n",
    "        print(j,\" - \", ans)\n",
    "        if ans > minimum2:\n",
    "            minimum2 = ans\n",
    "            idx2 = j\n",
    "    cv2.imshow('res0', img_suit)\n",
    "    cv2.imshow('res1',2*img_suit + suits[0] + cv2.flip(suits[0], 0))\n",
    "    cv2.imshow('res2',2*img_suit + suits[1] + cv2.flip(suits[1], 0))\n",
    "    cv2.imshow('res3',2*img_suit + suits[2] + cv2.flip(suits[2], 0))\n",
    "    cv2.imshow('res4',2*img_suit + suits[3] + cv2.flip(suits[3], 0))\n",
    "    \n",
    "#     cv2.imshow('rres1',2*img_suit + cv2.flip(suits[0], 0))\n",
    "#     cv2.imshow('rres2',2*img_suit + cv2.flip(suits[1], 0))\n",
    "#     cv2.imshow('rres3',2*img_suit + cv2.flip(suits[2], 0))\n",
    "#     cv2.imshow('rres4',2*img_suit + cv2.flip(suits[3], 0))\n",
    "    cv2.waitKey(0)\n",
    "    cv2.destroyAllWindows()\n",
    "    \n",
    "    \n",
    "    if minimum2 > minimum1:   \n",
    "        return idx2\n",
    "    else:    \n",
    "        return idx1"
   ]
  },
  {
   "cell_type": "code",
   "execution_count": null,
   "metadata": {},
   "outputs": [
    {
     "name": "stdout",
     "output_type": "stream",
     "text": [
      "792.0\n",
      "0   788\n",
      "1   870\n",
      "2   874\n",
      "3   823\n",
      "0  -  788\n",
      "1  -  893\n",
      "2  -  907\n",
      "3  -  847\n"
     ]
    }
   ],
   "source": [
    "for i in range(len(num_cards)):\n",
    "    cropped_suit, card_value = preprocess_card(num_cards[i], img)\n",
    "    ans = find_rank(cropped_suit)\n",
    "    print(\"Card Value: {} and suit {}\".format(card_value,suits_dict[ans]))"
   ]
  },
  {
   "cell_type": "code",
   "execution_count": null,
   "metadata": {},
   "outputs": [],
   "source": []
  }
 ],
 "metadata": {
  "kernelspec": {
   "display_name": "Python 3",
   "language": "python",
   "name": "python3"
  },
  "language_info": {
   "codemirror_mode": {
    "name": "ipython",
    "version": 3
   },
   "file_extension": ".py",
   "mimetype": "text/x-python",
   "name": "python",
   "nbconvert_exporter": "python",
   "pygments_lexer": "ipython3",
   "version": "3.6.4"
  }
 },
 "nbformat": 4,
 "nbformat_minor": 2
}
