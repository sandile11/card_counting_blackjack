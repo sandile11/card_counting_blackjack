{
 "cells": [
  {
   "cell_type": "code",
   "execution_count": 67,
   "metadata": {},
   "outputs": [
    {
     "name": "stdout",
     "output_type": "stream",
     "text": [
      "Exception reporting mode: Plain\n"
     ]
    }
   ],
   "source": [
    "%xmode plain\n",
    "import glob\n",
    "import cv2\n",
    "import numpy as np"
   ]
  },
  {
   "cell_type": "code",
   "execution_count": 68,
   "metadata": {},
   "outputs": [],
   "source": [
    "suits_dict = {0:'Diamond',1:'Spade', 2:'Heart', 3:'Club'}"
   ]
  },
  {
   "cell_type": "code",
   "execution_count": 69,
   "metadata": {},
   "outputs": [],
   "source": [
    "mask = cv2.imread('../CV-BlackjackStudent/GOPR0319.MP4-lbl/04445-lbl.png',1)\n",
    "img = cv2.imread('../CV-BlackjackStudent/GOPR0319.MP4-lbl/04445.png',1)\n",
    "mask = cv2.cvtColor(mask, cv2.COLOR_BGR2GRAY)\n",
    "ret,thresh = cv2.threshold(mask,127,255,0)\n",
    "_,img = cv2.threshold(img,127,255,0)\n",
    "im2 ,num_cards, hierarchy = cv2.findContours(thresh,cv2.RETR_TREE,cv2.CHAIN_APPROX_SIMPLE)\n",
    "cimg = cv2.drawContours(img,num_cards,-1,(0,255,0),1)\n",
    "# cv2.imshow('teg', cimg)\n",
    "# cv2.waitKey(0)\n",
    "# cv2.destroyAllWindows()"
   ]
  },
  {
   "cell_type": "code",
   "execution_count": 70,
   "metadata": {},
   "outputs": [],
   "source": [
    "def preprocess_card(contour, img):\n",
    "    \n",
    "    peri = cv2.arcLength(contour, True)\n",
    "    approx = cv2.approxPolyDP(contour, 0.09*peri, True)\n",
    "    pts = np.float32(approx)\n",
    "    x,y,w,h = cv2.boundingRect(contour)\n",
    "    average = np.sum(pts, axis=0)/len(pts)\n",
    "    \n",
    "    warp = flattener(img, pts, w, h)\n",
    "    \n",
    "    #blur blur blur\n",
    "#     cv2.imshow('ee',warp)\n",
    "#     cv2.waitKey(0)\n",
    "#     cv2.destroyAllWindows()\n",
    "    \n",
    "    ret,thresh = cv2.threshold(warp,127,255,cv2.THRESH_BINARY)\n",
    "    im2 , contours, hierarchy = cv2.findContours(thresh,cv2.RETR_TREE,cv2.CHAIN_APPROX_SIMPLE)\n",
    "    area = np.array([cv2.contourArea(contours[i], True) for i in range(len(contours))]) \n",
    "    print(len(contours))\n",
    "    print(np.percentile(area[1:],50))\n",
    "    suit_contours = (area>np.percentile(area[1:],50)).nonzero()[0]\n",
    "    suit_areas = area[suit_contours]\n",
    "    z = [x for _,x in sorted(zip(area[suit_contours],suit_contours))]\n",
    "    largest_suit_contour = z[-2]\n",
    "    x,y,w,h = cv2.boundingRect(contours[largest_suit_contour])\n",
    "#     ret,th1 = cv2.threshold(warp,127,255,cv2.THRESH_BINARY)\n",
    "    warp_c = cv2.rectangle(warp,(x,y),(x+w,y+h),(0,255,0),2)\n",
    "    cropped_suit = warp_c[y:y+h, x:x+w]\n",
    "    \n",
    "    return cropped_suit, len(suit_contours)-1"
   ]
  },
  {
   "cell_type": "code",
   "execution_count": 71,
   "metadata": {},
   "outputs": [],
   "source": [
    "def flattener(image, pts, w, h):\n",
    "    \"\"\"Flattens an image of a card into a top-down 200x300 perspective.\n",
    "    Returns the flattened, re-sized, grayed image.\n",
    "    See www.pyimagesearch.com/2014/08/25/4-point-opencv-getperspective-transform-example/\"\"\"\n",
    "    temp_rect = np.zeros((4,2), dtype = \"float32\")\n",
    "    \n",
    "    s = np.sum(pts, axis = 2)\n",
    "\n",
    "    tl = pts[np.argmin(s)]\n",
    "    br = pts[np.argmax(s)]\n",
    "\n",
    "    diff = np.diff(pts, axis = -1)\n",
    "    tr = pts[np.argmin(diff)]\n",
    "    bl = pts[np.argmax(diff)]\n",
    "\n",
    "    # Need to create an array listing points in order of\n",
    "    # [top left, top right, bottom right, bottom left]\n",
    "    # before doing the perspective transform\n",
    "\n",
    "    if w <= 0.8*h: # If card is vertically oriented\n",
    "        temp_rect[0] = tl\n",
    "        temp_rect[1] = tr\n",
    "        temp_rect[2] = br\n",
    "        temp_rect[3] = bl\n",
    "\n",
    "    if w >= 1.2*h: # If card is horizontally oriented\n",
    "        temp_rect[0] = bl\n",
    "        temp_rect[1] = tl\n",
    "        temp_rect[2] = tr\n",
    "        temp_rect[3] = br\n",
    "\n",
    "    # If the card is 'diamond' oriented, a different algorithm\n",
    "    # has to be used to identify which point is top left, top right\n",
    "    # bottom left, and bottom right.\n",
    "    \n",
    "    if w > 0.8*h and w < 1.2*h: #If card is diamond oriented\n",
    "        # If furthest left point is higher than furthest right point,\n",
    "        # card is tilted to the left.\n",
    "        if pts[1][0][1] <= pts[3][0][1]:\n",
    "            # If card is titled to the left, approxPolyDP returns points\n",
    "            # in this order: top right, top left, bottom left, bottom right\n",
    "            temp_rect[0] = pts[1][0] # Top left\n",
    "            temp_rect[1] = pts[0][0] # Top right\n",
    "            temp_rect[2] = pts[3][0] # Bottom right\n",
    "            temp_rect[3] = pts[2][0] # Bottom left\n",
    "\n",
    "        # If furthest left point is lower than furthest right point,\n",
    "        # card is tilted to the right\n",
    "        if pts[1][0][1] > pts[3][0][1]:\n",
    "            # If card is titled to the right, approxPolyDP returns points\n",
    "            # in this order: top left, bottom left, bottom right, top right\n",
    "            temp_rect[0] = pts[0][0] # Top left\n",
    "            temp_rect[1] = pts[3][0] # Top right\n",
    "            temp_rect[2] = pts[2][0] # Bottom right\n",
    "            temp_rect[3] = pts[1][0] # Bottom left\n",
    "            \n",
    "        \n",
    "    maxWidth = 200\n",
    "    maxHeight = 300\n",
    "\n",
    "    # Create destination array, calculate perspective transform matrix,\n",
    "    # and warp card image\n",
    "    dst = np.array([[0,0],[maxWidth-1,0],[maxWidth-1,maxHeight-1],[0, maxHeight-1]], np.float32)\n",
    "    M = cv2.getPerspectiveTransform(temp_rect,dst)\n",
    "    warp = cv2.warpPerspective(image, M, (maxWidth, maxHeight))\n",
    "    warp = cv2.cvtColor(warp,cv2.COLOR_BGR2GRAY)\n",
    "\n",
    "    return warp"
   ]
  },
  {
   "cell_type": "code",
   "execution_count": 72,
   "metadata": {},
   "outputs": [
    {
     "name": "stdout",
     "output_type": "stream",
     "text": [
      "21\n",
      "106.75\n"
     ]
    }
   ],
   "source": [
    "cropped_suit = 0\n",
    "card_value = 0\n",
    "for i in range(len(num_cards)):\n",
    "    cropped_suit, card_value = preprocess_card(num_cards[i], img)"
   ]
  },
  {
   "cell_type": "code",
   "execution_count": 73,
   "metadata": {},
   "outputs": [],
   "source": [
    "suits = [cv2.imread(file) for file in glob.glob(\"suits/*.png\")]\n",
    "for i,img in enumerate(suits):\n",
    "    img = cv2.cvtColor(cv2.resize(img, (cropped_suit.shape[1], cropped_suit.shape[0])), cv2.COLOR_BGR2GRAY)\n",
    "    suits[i] = img"
   ]
  },
  {
   "cell_type": "code",
   "execution_count": 74,
   "metadata": {},
   "outputs": [
    {
     "name": "stdout",
     "output_type": "stream",
     "text": [
      "0   176.9717559814453\n",
      "0   191.02879333496094\n",
      "0   192.29664611816406\n",
      "0   215.83326721191406\n",
      "1   123.80226135253906\n",
      "1   138.56045532226562\n",
      "1   208.80374145507812\n",
      "1   246.88661193847656\n",
      "2   167.97023010253906\n",
      "2   168.25279235839844\n",
      "2   221.40460205078125\n",
      "2   226.75096130371094\n",
      "3   293.53363037109375\n",
      "3   313.5091552734375\n",
      "3   342.14178466796875\n",
      "3   343.40936279296875\n",
      "[776.1304626464844, 718.0530700683594, 784.3785858154297, 1292.5939331054688]\n",
      " The card suit is:   Spade\n"
     ]
    }
   ],
   "source": [
    "sift = cv2.xfeatures2d.SIFT_create()\n",
    "distances = []\n",
    "for i in range(len(suits)):\n",
    "    kp1, des1 = sift.detectAndCompute(cropped_suit, None)\n",
    "    sift = cv2.xfeatures2d.SIFT_create()\n",
    "    kp2, des2 = sift.detectAndCompute(suits[i], None)\n",
    "    bf = cv2.BFMatcher(cv2.NORM_L2, crossCheck=False)\n",
    "    matches = bf.match(des1, des2)\n",
    "    matches = sorted(matches, key = lambda x:x.distance)\n",
    "    sums = 0\n",
    "    for j in range(4):\n",
    "        print(i,\" \",matches[j].distance)\n",
    "        sums += matches[j].distance\n",
    "    distances.append(sums)\n",
    "\n",
    "print(distances)\n",
    "print(\" The card suit is:  \", suits_dict[np.argmin(np.array(distances))])\n",
    "\n",
    "# # print(des1.shape)\n",
    "# # print(des2.shape)\n",
    "\n",
    "# img3  = np.array([])\n",
    "# img3 = cv2.drawMatches(cropped_suit, kp1, cv2.flip(suits[2], 0), kp2, matches, cropped_suit, flags=2)\n"
   ]
  },
  {
   "cell_type": "code",
   "execution_count": 75,
   "metadata": {},
   "outputs": [],
   "source": [
    "def find_rank(img_suit):\n",
    "    _,img_suit = cv2.threshold(img_suit,127,255,0)\n",
    "    suits = [cv2.imread(file) for file in glob.glob(\"suits/*.png\")]\n",
    "    for i,img in enumerate(suits):\n",
    "        img = cv2.cvtColor(cv2.resize(img, (img_suit.shape[1], img_suit.shape[0])), cv2.COLOR_BGR2GRAY)\n",
    "        _,img = cv2.threshold(img,127,255,0)\n",
    "        suits[i] = img\n",
    "    \n",
    "    minimum1 = 1000000\n",
    "    idx1  = 0   \n",
    "    ret = 0\n",
    "    for i in range(len(suits)):\n",
    "        ans = np.abs((-img_suit + cv2.flip(suits[i], 0)))\n",
    "        tans = ans[ans > 128].shape[0]\n",
    "        print(i,\" \", tans)\n",
    "        \n",
    "        if tans < minimum1:\n",
    "            minimum1 = tans\n",
    "            idx1 = i\n",
    "            ret = ans\n",
    "    minimum2 = 1000000\n",
    "    idx2 = 0\n",
    "\n",
    "\n",
    "    for j in range(len(suits)):\n",
    "        ans = np.abs(-img_suit + suits[j])\n",
    "        ans = ans[ans > 128].shape[0]\n",
    "        print(j,\" - \", ans)\n",
    "        if ans < minimum2:\n",
    "            minimum2 = ans\n",
    "            idx2 = j\n",
    "    cv2.imshow('answer ', np.abs(-img_suit + suits[0]))\n",
    "    cv2.imshow('answer1 ', np.abs(-img_suit + suits[1]))\n",
    "    cv2.imshow('answer2 ', np.abs(-img_suit + suits[2]))\n",
    "    cv2.imshow('answer3 ', np.abs(-img_suit + suits[3]))\n",
    "    cv2.waitKey(0)\n",
    "    cv2.destroyAllWindows()\n",
    "    if minimum2 < minimum1:   \n",
    "        return idx2\n",
    "    else:    \n",
    "        return idx1"
   ]
  },
  {
   "cell_type": "code",
   "execution_count": 76,
   "metadata": {},
   "outputs": [
    {
     "name": "stdout",
     "output_type": "stream",
     "text": [
      "0   443\n",
      "1   255\n",
      "2   479\n",
      "3   329\n",
      "0  -  381\n",
      "1  -  473\n",
      "2  -  107\n",
      "3  -  549\n",
      "The suit of the card is:  Heart\n",
      "------ SIFT ------\n",
      "[ 776.13046265  718.05307007  784.37858582 1292.59393311]\n",
      " The card suit is:   Spade\n"
     ]
    }
   ],
   "source": [
    "a = find_rank(cropped_suit)\n",
    "print(\"The suit of the card is: \", suits_dict[a])\n",
    "print(\"------ SIFT ------\")\n",
    "print(np.array(distances))\n",
    "print(\" The card suit is:  \", suits_dict[np.argmin(np.array(distances))])\n"
   ]
  },
  {
   "cell_type": "code",
   "execution_count": null,
   "metadata": {},
   "outputs": [],
   "source": []
  }
 ],
 "metadata": {
  "kernelspec": {
   "display_name": "Python 3",
   "language": "python",
   "name": "python3"
  },
  "language_info": {
   "codemirror_mode": {
    "name": "ipython",
    "version": 3
   },
   "file_extension": ".py",
   "mimetype": "text/x-python",
   "name": "python",
   "nbconvert_exporter": "python",
   "pygments_lexer": "ipython3",
   "version": "3.6.4"
  }
 },
 "nbformat": 4,
 "nbformat_minor": 2
}
